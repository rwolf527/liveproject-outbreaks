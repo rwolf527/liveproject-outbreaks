{
 "cells": [
  {
   "cell_type": "code",
   "execution_count": 1,
   "metadata": {},
   "outputs": [],
   "source": [
    "import pathlib\n",
    "import pandas as pd\n",
    "import geonamescache\n",
    "import re"
   ]
  },
  {
   "cell_type": "code",
   "execution_count": 2,
   "metadata": {},
   "outputs": [],
   "source": [
    "gc = geonamescache.GeonamesCache()\n",
    "countries = gc.get_countries()\n",
    "cities = gc.get_cities()"
   ]
  },
  {
   "cell_type": "code",
   "execution_count": 3,
   "metadata": {},
   "outputs": [
    {
     "data": {
      "text/html": [
       "<div>\n",
       "<style scoped>\n",
       "    .dataframe tbody tr th:only-of-type {\n",
       "        vertical-align: middle;\n",
       "    }\n",
       "\n",
       "    .dataframe tbody tr th {\n",
       "        vertical-align: top;\n",
       "    }\n",
       "\n",
       "    .dataframe thead th {\n",
       "        text-align: right;\n",
       "    }\n",
       "</style>\n",
       "<table border=\"1\" class=\"dataframe\">\n",
       "  <thead>\n",
       "    <tr style=\"text-align: right;\">\n",
       "      <th></th>\n",
       "      <th>Headline</th>\n",
       "    </tr>\n",
       "  </thead>\n",
       "  <tbody>\n",
       "    <tr>\n",
       "      <th>0</th>\n",
       "      <td>Zika Outbreak Hits Miami</td>\n",
       "    </tr>\n",
       "    <tr>\n",
       "      <th>1</th>\n",
       "      <td>Could Zika Reach New York City?</td>\n",
       "    </tr>\n",
       "    <tr>\n",
       "      <th>2</th>\n",
       "      <td>First Case of Zika in Miami Beach</td>\n",
       "    </tr>\n",
       "    <tr>\n",
       "      <th>3</th>\n",
       "      <td>Mystery Virus Spreads in Recife, Brazil</td>\n",
       "    </tr>\n",
       "    <tr>\n",
       "      <th>4</th>\n",
       "      <td>Dallas man comes down with case of Zika</td>\n",
       "    </tr>\n",
       "  </tbody>\n",
       "</table>\n",
       "</div>"
      ],
      "text/plain": [
       "                                  Headline\n",
       "0                 Zika Outbreak Hits Miami\n",
       "1          Could Zika Reach New York City?\n",
       "2        First Case of Zika in Miami Beach\n",
       "3  Mystery Virus Spreads in Recife, Brazil\n",
       "4  Dallas man comes down with case of Zika"
      ]
     },
     "execution_count": 3,
     "metadata": {},
     "output_type": "execute_result"
    }
   ],
   "source": [
    "headlines_file = pathlib.Path().joinpath('data', 'headlines.txt')\n",
    "with open(headlines_file, mode='r') as headlines:\n",
    "    all_headlines = [next_headline.strip() for next_headline in headlines]\n",
    "my_headlines_df = pd.DataFrame(all_headlines, columns=['Headline'])\n",
    "my_headlines_df.head()"
   ]
  },
  {
   "cell_type": "code",
   "execution_count": 4,
   "metadata": {},
   "outputs": [],
   "source": [
    "def create_regex_from_list(a_list):\n",
    "    all_items_string = '|'.join([v['name'] for k, v in a_list.items()])\n",
    "    return re.compile('\\\\b(' + all_items_string + ')\\\\b', re.IGNORECASE)\n"
   ]
  },
  {
   "cell_type": "code",
   "execution_count": 5,
   "metadata": {},
   "outputs": [],
   "source": [
    "def get_country_codes_for_city(city):\n",
    "    return [list(c.values())[0]['countrycode'] for c in gc.get_cities_by_name(city)]"
   ]
  },
  {
   "cell_type": "code",
   "execution_count": 6,
   "metadata": {},
   "outputs": [],
   "source": [
    "def get_state_codes_for_city(city):\n",
    "    return [list(c.values())[0]['admin1code'] for c in gc.get_cities_by_name(city)]    "
   ]
  },
  {
   "cell_type": "code",
   "execution_count": 7,
   "metadata": {},
   "outputs": [],
   "source": [
    "country_search_rec = create_regex_from_list(countries)\n",
    "city_search_rec = create_regex_from_list(cities)"
   ]
  },
  {
   "cell_type": "code",
   "execution_count": 8,
   "metadata": {},
   "outputs": [],
   "source": [
    "def find_city_state_country_in_headline(a_headline):\n",
    "    my_country = None\n",
    "    my_country_codes = []\n",
    "    my_city = None\n",
    "    my_state_codes = []\n",
    "    \n",
    "    my_country_match = country_search_rec.search(a_headline)\n",
    "    if my_country_match:\n",
    "        my_country = my_country_match.groups()[0]\n",
    "        \n",
    "    my_city_match = city_search_rec.search(a_headline)\n",
    "    if my_city_match:\n",
    "        my_city = my_city_match.groups()[0]\n",
    "        my_country_codes = get_country_codes_for_city(my_city)\n",
    "        my_state_codes = get_state_codes_for_city(my_city)\n",
    "    return (my_city, my_state_codes, my_country, my_country_codes)"
   ]
  },
  {
   "cell_type": "code",
   "execution_count": 9,
   "metadata": {},
   "outputs": [],
   "source": [
    "my_headlines_df['Tuples'] = my_headlines_df['Headline'].apply(lambda h: find_city_state_country_in_headline(h))"
   ]
  },
  {
   "cell_type": "code",
   "execution_count": 10,
   "metadata": {},
   "outputs": [],
   "source": [
    "my_headlines_df['City'] = my_headlines_df['Tuples'].apply(lambda x: x[0])"
   ]
  },
  {
   "cell_type": "code",
   "execution_count": 11,
   "metadata": {},
   "outputs": [],
   "source": [
    "my_headlines_df['State Codes'] = my_headlines_df['Tuples'].apply(lambda x: x[1])"
   ]
  },
  {
   "cell_type": "code",
   "execution_count": 12,
   "metadata": {},
   "outputs": [],
   "source": [
    "my_headlines_df['Country'] = my_headlines_df['Tuples'].apply(lambda x: x[2])"
   ]
  },
  {
   "cell_type": "code",
   "execution_count": 13,
   "metadata": {},
   "outputs": [],
   "source": [
    "my_headlines_df['Country Codes'] = my_headlines_df['Tuples'].apply(lambda x: x[3])"
   ]
  },
  {
   "cell_type": "code",
   "execution_count": 14,
   "metadata": {},
   "outputs": [],
   "source": [
    "del my_headlines_df['Tuples']"
   ]
  },
  {
   "cell_type": "code",
   "execution_count": 15,
   "metadata": {},
   "outputs": [
    {
     "data": {
      "text/html": [
       "<div>\n",
       "<style scoped>\n",
       "    .dataframe tbody tr th:only-of-type {\n",
       "        vertical-align: middle;\n",
       "    }\n",
       "\n",
       "    .dataframe tbody tr th {\n",
       "        vertical-align: top;\n",
       "    }\n",
       "\n",
       "    .dataframe thead th {\n",
       "        text-align: right;\n",
       "    }\n",
       "</style>\n",
       "<table border=\"1\" class=\"dataframe\">\n",
       "  <thead>\n",
       "    <tr style=\"text-align: right;\">\n",
       "      <th></th>\n",
       "      <th>Headline</th>\n",
       "      <th>City</th>\n",
       "      <th>State Codes</th>\n",
       "      <th>Country</th>\n",
       "      <th>Country Codes</th>\n",
       "    </tr>\n",
       "  </thead>\n",
       "  <tbody>\n",
       "    <tr>\n",
       "      <th>0</th>\n",
       "      <td>Zika Outbreak Hits Miami</td>\n",
       "      <td>Miami</td>\n",
       "      <td>[FL]</td>\n",
       "      <td>None</td>\n",
       "      <td>[US]</td>\n",
       "    </tr>\n",
       "    <tr>\n",
       "      <th>1</th>\n",
       "      <td>Could Zika Reach New York City?</td>\n",
       "      <td>New York City</td>\n",
       "      <td>[NY]</td>\n",
       "      <td>None</td>\n",
       "      <td>[US]</td>\n",
       "    </tr>\n",
       "    <tr>\n",
       "      <th>2</th>\n",
       "      <td>First Case of Zika in Miami Beach</td>\n",
       "      <td>of</td>\n",
       "      <td>[]</td>\n",
       "      <td>None</td>\n",
       "      <td>[]</td>\n",
       "    </tr>\n",
       "    <tr>\n",
       "      <th>3</th>\n",
       "      <td>Mystery Virus Spreads in Recife, Brazil</td>\n",
       "      <td>Recife</td>\n",
       "      <td>[30]</td>\n",
       "      <td>Brazil</td>\n",
       "      <td>[BR]</td>\n",
       "    </tr>\n",
       "    <tr>\n",
       "      <th>4</th>\n",
       "      <td>Dallas man comes down with case of Zika</td>\n",
       "      <td>Dallas</td>\n",
       "      <td>[TX, OR]</td>\n",
       "      <td>None</td>\n",
       "      <td>[US, US]</td>\n",
       "    </tr>\n",
       "  </tbody>\n",
       "</table>\n",
       "</div>"
      ],
      "text/plain": [
       "                                  Headline           City State Codes Country  \\\n",
       "0                 Zika Outbreak Hits Miami          Miami        [FL]    None   \n",
       "1          Could Zika Reach New York City?  New York City        [NY]    None   \n",
       "2        First Case of Zika in Miami Beach             of          []    None   \n",
       "3  Mystery Virus Spreads in Recife, Brazil         Recife        [30]  Brazil   \n",
       "4  Dallas man comes down with case of Zika         Dallas    [TX, OR]    None   \n",
       "\n",
       "  Country Codes  \n",
       "0          [US]  \n",
       "1          [US]  \n",
       "2            []  \n",
       "3          [BR]  \n",
       "4      [US, US]  "
      ]
     },
     "execution_count": 15,
     "metadata": {},
     "output_type": "execute_result"
    }
   ],
   "source": [
    "my_headlines_df.head()"
   ]
  },
  {
   "cell_type": "code",
   "execution_count": null,
   "metadata": {},
   "outputs": [],
   "source": []
  }
 ],
 "metadata": {
  "kernelspec": {
   "display_name": "Python 3",
   "language": "python",
   "name": "python3"
  },
  "language_info": {
   "codemirror_mode": {
    "name": "ipython",
    "version": 3
   },
   "file_extension": ".py",
   "mimetype": "text/x-python",
   "name": "python",
   "nbconvert_exporter": "python",
   "pygments_lexer": "ipython3",
   "version": "3.8.0"
  }
 },
 "nbformat": 4,
 "nbformat_minor": 4
}
